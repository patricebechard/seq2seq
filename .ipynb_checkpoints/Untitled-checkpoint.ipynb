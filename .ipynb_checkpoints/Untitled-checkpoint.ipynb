{
 "cells": [
  {
   "cell_type": "code",
   "execution_count": 1,
   "metadata": {},
   "outputs": [],
   "source": [
    "import torch\n",
    "from torch import nn\n",
    "from torch import optim\n",
    "from torch.autograd import Variable\n",
    "import torch.nn.functional as F"
   ]
  },
  {
   "cell_type": "code",
   "execution_count": 2,
   "metadata": {},
   "outputs": [],
   "source": [
    "import numpy as np\n",
    "import matplotlib.pyplot as plt"
   ]
  },
  {
   "cell_type": "markdown",
   "metadata": {},
   "source": [
    "### Import dataset"
   ]
  },
  {
   "cell_type": "code",
   "execution_count": null,
   "metadata": {},
   "outputs": [],
   "source": []
  },
  {
   "cell_type": "markdown",
   "metadata": {},
   "source": [
    "### Creating models"
   ]
  },
  {
   "cell_type": "code",
   "execution_count": null,
   "metadata": {},
   "outputs": [],
   "source": [
    "class Seq2Seq(nn.Module):\n",
    "    \n",
    "    def __init__(self, input_size, output_size, embedding_size=256, hidden_size=256,\n",
    "                 attention_size=256, num_layers=3, max_seq_len=30):\n",
    "        super(Seq2Seq, self).__init__()\n",
    "        \n",
    "        self.max_seq_len = max_seq_len\n",
    "        \n",
    "        self.encoder = Encoder(input_size=source_vocab_size, \n",
    "                               embedding_size=embedding_size,\n",
    "                               hidden_size=hidden_size,\n",
    "                               num_layers=num_layers)\n",
    "        \n",
    "        self.decoder = Decoder(output_size=target_vocab_size,\n",
    "                               embedding_size=embedding_size,\n",
    "                               hidden_size=hidden_size,\n",
    "                               attention_size=attention_size,\n",
    "                               num_layers=num_layers)\n",
    "        \n",
    "    def forward(self, x, target=None, teacher_forcing=False):\n",
    "        \n",
    "        encoder_out = self.encoder(x)\n",
    "        \n",
    "        #first feed <BOS> token to decoder rnn\n",
    "        x = torch.zeros(batch_size)\n",
    "        \n",
    "        while \n",
    "        \n",
    "        return x"
   ]
  },
  {
   "cell_type": "code",
   "execution_count": null,
   "metadata": {},
   "outputs": [],
   "source": [
    "class Encoder(nn.Module):\n",
    "    \n",
    "    def __init__(self, input_size, embedding_size=256, hidden_size=256,\n",
    "                 num_layers=3):\n",
    "        super(Encoder, self).__init__()\n",
    "        \n",
    "        self.input_size = input_size\n",
    "        self.embedding_size = embedding_size\n",
    "        self.hidden_size = hidden_size\n",
    "        self.num_layers = num_layers\n",
    "        \n",
    "        self.hidden0 = nn.Parameter(torch.zeros(2*num_layers, batch_size, hidden_size))\n",
    "        \n",
    "        self.embedding = nn.Embedding(num_embeddings=input_size, embedding_dim=embedding_size)\n",
    "        self.encoder_rnn = nn.GRU(input_size=embedding_size, hidden_size=hidden_size, \n",
    "                                  num_layers=num_layers, bidirectional=True)\n",
    "        \n",
    "    def forward(self, x):\n",
    "        \n",
    "        x = self.embedding(x)\n",
    "        x, hidden = self.encoder_rnn(x, hidden)\n",
    "        \n",
    "        return x\n",
    "\n",
    "    def _init_hidden(self):\n",
    "        # initial hidden state is a learned bias parameter\n",
    "        hidden = self.hidden0.clone().repeat(1, self.batch_size, 1)\n",
    "        if use_cuda:\n",
    "            hidden = hidden.cuda()\n",
    "\n",
    "        return hidden\n"
   ]
  },
  {
   "cell_type": "code",
   "execution_count": null,
   "metadata": {},
   "outputs": [],
   "source": [
    "class Decoder(nn.Module):\n",
    "    \n",
    "    def __init__(self, output_size, embedding_size=256, hidden_size=256,\n",
    "                 attention_size=256, num_layers=3):\n",
    "        \"\"\"\n",
    "        We use the original attention mechanism from Bahdanau et al. 2014\n",
    "        The layers are of this model correspond to the following notation in the original paper.\n",
    "        \n",
    "        attn_fc_prev_hid : Wa\n",
    "        attn_fc_enc_hid : Ua\n",
    "        attn_fc_context : va\n",
    "        \"\"\"\n",
    "        super(Decoder, self).__init__()\n",
    "        \n",
    "        self.output_size = output_size\n",
    "        self.embedding_size = embedding_size\n",
    "        self.hidden_size = hidden_size\n",
    "        self.attention_size = attention_size\n",
    "        \n",
    "        # attention\n",
    "        self.attn_fc_prev_hid = nn.Linear(in_features=hidden_size, \n",
    "                                          out_features=attention_size)\n",
    "        self.attn_fc_enc_hid = nn.Linear(in_features=2*hidden_size, \n",
    "                                         out_features=attention_size)\n",
    "        self.attn_fc_context = nn.Linear(in_features=attention_size,\n",
    "                                         out_features=1)\n",
    "    \n",
    "        self.embedding = nn.Embedding(num_embeddings=output_size, embedding_dim=embedding_size)    \n",
    "        self.decoder_rnn = nn.GRU(input_size=(embedding_size + ))\n",
    "        self.clf = nn.Linear(in_features=hidden_size, out_features=output_size)\n",
    "        \n",
    "        \n",
    "    def forward(self, x, encoder_outputs):\n",
    "        # x is the output of the decoder\n",
    "        \n",
    "        # attention\n",
    "        tmp1 = self.attn_fc_prev_hid(self.hidden)\n",
    "        tmp2 = self.attn_fc_enc_hid(encoder_outputs)\n",
    "        context_weights = self.attn_fc_context(F.tanh(tmp1 + tmp2))\n",
    "        context_weights = F.softmax(context_weights)\n",
    "        \n",
    "        context_vector = torch.matmul(context_weights, encoder_outputs)\n",
    "        \n",
    "        #concatenate previously predicted_word and context vector\n",
    "        x = torch.cat(x, context_vector)\n",
    "        \n",
    "        x, self.hidden = self.decoder_rnn(x, self.hidden)\n",
    "        \n",
    "        x = self.clf(x)\n",
    "        \n",
    "        return x\n",
    "        "
   ]
  },
  {
   "cell_type": "markdown",
   "metadata": {},
   "source": [
    "### Tranining loop"
   ]
  },
  {
   "cell_type": "code",
   "execution_count": null,
   "metadata": {},
   "outputs": [],
   "source": [
    "def train(model, n_updates = 10000, print_every=100, learning_rate=learning_rate):\n",
    "\n",
    "    if use_cuda:\n",
    "        model = model.cuda()\n",
    "\n",
    "    criterion = nn.CrossEntropyLoss()\n",
    "    optimizer = optim.Adam(model.parameters(), lr=learning_rate, momentum)\n",
    "\n",
    "    for update in range(n_updates):\n",
    "\n",
    "\n",
    "        inputs, targets = generate_pairs_batch()\n",
    "\n",
    "        inputs, targets = Variable(inputs), Variable(targets)\n",
    "        if use_cuda:\n",
    "            inputs, targets = inputs.cuda(), targets.cuda()\n"
   ]
  },
  {
   "cell_type": "code",
   "execution_count": null,
   "metadata": {},
   "outputs": [],
   "source": [
    "model = Seq2Seq()\n",
    "\n",
    "train(model)"
   ]
  }
 ],
 "metadata": {
  "kernelspec": {
   "display_name": "Python 2",
   "language": "python",
   "name": "python2"
  },
  "language_info": {
   "codemirror_mode": {
    "name": "ipython",
    "version": 2
   },
   "file_extension": ".py",
   "mimetype": "text/x-python",
   "name": "python",
   "nbconvert_exporter": "python",
   "pygments_lexer": "ipython2",
   "version": "2.7.12"
  }
 },
 "nbformat": 4,
 "nbformat_minor": 2
}
